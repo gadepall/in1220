{
  "nbformat": 4,
  "nbformat_minor": 0,
  "metadata": {
    "colab": {
      "name": "individual_unicode.ipynb",
      "provenance": [],
      "collapsed_sections": []
    },
    "kernelspec": {
      "name": "python3",
      "display_name": "Python 3"
    }
  },
  "cells": [
    {
      "cell_type": "code",
      "metadata": {
        "colab": {
          "base_uri": "https://localhost:8080/"
        },
        "id": "9d3YG-VGf1Ra",
        "outputId": "c6318755-48f1-49b5-a339-37a126998425"
      },
      "source": [
        "from google.colab import drive\n",
        "drive.mount('/content/drive')"
      ],
      "execution_count": 1,
      "outputs": [
        {
          "output_type": "stream",
          "text": [
            "Mounted at /content/drive\n"
          ],
          "name": "stdout"
        }
      ]
    },
    {
      "cell_type": "code",
      "metadata": {
        "colab": {
          "base_uri": "https://localhost:8080/"
        },
        "id": "9By-KMk4jqB3",
        "outputId": "1fd46fb0-c0cf-4a5c-ac87-e7a883d5911c"
      },
      "source": [
        "%cd drive/MyDrive/'Colab Notebooks'/slokam_pattern"
      ],
      "execution_count": 2,
      "outputs": [
        {
          "output_type": "stream",
          "text": [
            "/content/drive/MyDrive/Colab Notebooks/slokam_pattern\n"
          ],
          "name": "stdout"
        }
      ]
    },
    {
      "cell_type": "code",
      "metadata": {
        "id": "nabPt-33j2F7"
      },
      "source": [
        "sloka = open('aigiri_test2.txt', 'r')\n",
        "sloka_txt = sloka.read()\n",
        "sloka.close()"
      ],
      "execution_count": 5,
      "outputs": []
    },
    {
      "cell_type": "code",
      "metadata": {
        "id": "7hARUDuakLOe"
      },
      "source": [
        "words = sloka_txt.split()\n",
        "uni_file = open('unicode_test2.txt', 'w')\n",
        "\n",
        "for i in words:\n",
        "    if(i !='|' and i !='||' and not(i.isdigit())):\n",
        "        for j in i:\n",
        "            uni_file.write('U+' + hex(ord(j)).replace('x', ''))\n",
        "            uni_file.write('  ')\n",
        "\n",
        "uni_file.close()"
      ],
      "execution_count": 6,
      "outputs": []
    }
  ]
}