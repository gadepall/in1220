{
  "nbformat": 4,
  "nbformat_minor": 0,
  "metadata": {
    "colab": {
      "name": "Unicode Conversion",
      "provenance": [],
      "collapsed_sections": []
    },
    "kernelspec": {
      "name": "python3",
      "display_name": "Python 3"
    }
  },
  "cells": [
    {
      "cell_type": "markdown",
      "metadata": {
        "id": "2xxDoYElDi2f"
      },
      "source": [
        "**Some Useful Resources**"
      ]
    },
    {
      "cell_type": "markdown",
      "metadata": {
        "id": "j37xn3xvDi-0"
      },
      "source": [
        "https://docs.python.org/3/howto/unicode.html\r\n",
        "\r\n",
        "http://unicode.org/charts/PDF/U0900.pdf\r\n",
        "\r\n",
        "https://www.pythonsheets.com/notes/python-unicode.html\r\n",
        "\r\n",
        "https://en.m.wikipedia.org/wiki/Devanagari_(Unicode_block)"
      ]
    },
    {
      "cell_type": "markdown",
      "metadata": {
        "id": "5tG2NG5IHHHC"
      },
      "source": [
        "In Python (2 or 3), strings can either be represented in bytes or unicode code points.\r\n",
        "Byte is a unit of information that is built of 8 bits — bytes are used to store all files in a hard disk. <br><br>\r\n",
        "Unicode is international standard where a mapping of individual characters and a unique number is maintained. As of May 2019, the most recent version of Unicode is 12.1 which contains over 137k characters including different scripts including English, Hindi, Chinese and Japanese, as well as emojis. These 137k characters are each represented by a unicode code point. So unicode code points refer to actual characters that are displayed.\r\n",
        "These code points are encoded to bytes and decoded from bytes back to code points. Examples: Unicode code point for alphabet a is U+0061, emoji 🖐 is U+1F590, and for Ω is U+03A9."
      ]
    },
    {
      "cell_type": "markdown",
      "metadata": {
        "id": "RIKeuEBNHfhh"
      },
      "source": [
        "**UTF-8:** It uses 1, 2, 3 or 4 bytes to encode every code point. It is backwards compatible with ASCII. All English characters just need 1 byte — which is quite efficient. We only need more bytes if we are sending non-English characters.\r\n",
        "It is the most popular form of encoding, and is by default the encoding in Python 3. In Python 2, the default encoding is ASCII (unfortunately). <br><br>\r\n",
        "**UTF-16** is variable 2 or 4 bytes. This encoding is great for Asian text as most of it can be encoded in 2 bytes each. It’s bad for English as all English characters also need 2 bytes here.<br><br>\r\n",
        "**UTF-32** is fixed 4 bytes. All characters are encoded in 4 bytes so it needs a lot of memory. It is not used very often."
      ]
    },
    {
      "cell_type": "markdown",
      "metadata": {
        "id": "0kLocUubMUAo"
      },
      "source": [
        "\r\n",
        "<br><br>\r\n",
        " **What data types in Python handle Unicode code points and bytes?** <br>\r\n",
        "As we discussed earlier, in Python, strings can either be represented in bytes or unicode code points.\r\n",
        "The main takeaways in Python are:\r\n",
        "1. Python 2 uses str type to store bytes and unicode type to store unicode code points. All strings by default are str type — which is bytes~ And Default encoding is ASCII. So if an incoming file is Cyrillic characters, Python 2 might fail because ASCII will not be able to handle those Cyrillic Characters. In this case, we need to remember to use decode(\"utf-8\") during reading of files. This is inconvenient.\r\n",
        "2. Python 3 came and fixed this. Strings are stillstr type by default but they now mean unicode code points instead — we carry what we see. If we want to store these str type strings in files we use bytes type instead. Default encoding is UTF-8 instead of ASCII. Perfect!"
      ]
    },
    {
      "cell_type": "code",
      "metadata": {
        "id": "FQziXJTVMRT9"
      },
      "source": [
        "\r\n",
        "    #  \\\\U........      # 8-digit hex escapes\r\n",
        "    # | \\\\u....          # 4-digit hex escapes\r\n",
        "    # | \\\\x..            # 2-digit hex escapes\r\n",
        "\r\n",
        "    "
      ],
      "execution_count": null,
      "outputs": []
    },
    {
      "cell_type": "code",
      "metadata": {
        "id": "HwKYygJmWWSZ"
      },
      "source": [
        "text=''' रचन: तुलसी दास्\r\n",
        "दॊहा\r\n",
        "श्री गुरु चरन सरॊज रज निजमनु मुकुरु सुधारि ।\r\n",
        "बरनऊ रघुबर बिमल जसु जॊ दायकु फल चारि ॥\r\n",
        "बुद्धिहीन ननु जानिकॆ सुमिरौ पवन कुमार ।\r\n",
        "बल बुद्धि विद्या दॆहु मॊहि हरहु कलॆस बिकार् ॥'''"
      ],
      "execution_count": 2,
      "outputs": []
    },
    {
      "cell_type": "code",
      "metadata": {
        "colab": {
          "base_uri": "https://localhost:8080/",
          "height": 52
        },
        "id": "iYlqzH2JWaE7",
        "outputId": "9ad4b034-1490-4229-a50f-550767729857"
      },
      "source": [
        "text"
      ],
      "execution_count": 3,
      "outputs": [
        {
          "output_type": "execute_result",
          "data": {
            "application/vnd.google.colaboratory.intrinsic+json": {
              "type": "string"
            },
            "text/plain": [
              "' रचन: तुलसी दास्\\nदॊहा\\nश्री गुरु चरन सरॊज रज निजमनु मुकुरु सुधारि ।\\nबरनऊ रघुबर बिमल जसु जॊ दायकु फल चारि ॥\\nबुद्धिहीन ननु जानिकॆ सुमिरौ पवन कुमार ।\\nबल बुद्धि विद्या दॆहु मॊहि हरहु कलॆस बिकार् ॥'"
            ]
          },
          "metadata": {
            "tags": []
          },
          "execution_count": 3
        }
      ]
    },
    {
      "cell_type": "code",
      "metadata": {
        "id": "ePZYGEqLWbyt"
      },
      "source": [
        "arr=[]"
      ],
      "execution_count": 4,
      "outputs": []
    },
    {
      "cell_type": "code",
      "metadata": {
        "colab": {
          "base_uri": "https://localhost:8080/"
        },
        "id": "Dfu-uArmWdeM",
        "outputId": "0cf37271-5304-4e92-803b-8fdcea3a7572"
      },
      "source": [
        "for i in text.split():\r\n",
        "    print(i,\" \",i.encode())\r\n",
        "    arr.append([i,i.encode()])"
      ],
      "execution_count": 6,
      "outputs": [
        {
          "output_type": "stream",
          "text": [
            "रचन:   b'\\xe0\\xa4\\xb0\\xe0\\xa4\\x9a\\xe0\\xa4\\xa8:'\n",
            "तुलसी   b'\\xe0\\xa4\\xa4\\xe0\\xa5\\x81\\xe0\\xa4\\xb2\\xe0\\xa4\\xb8\\xe0\\xa5\\x80'\n",
            "दास्   b'\\xe0\\xa4\\xa6\\xe0\\xa4\\xbe\\xe0\\xa4\\xb8\\xe0\\xa5\\x8d'\n",
            "दॊहा   b'\\xe0\\xa4\\xa6\\xe0\\xa5\\x8a\\xe0\\xa4\\xb9\\xe0\\xa4\\xbe'\n",
            "श्री   b'\\xe0\\xa4\\xb6\\xe0\\xa5\\x8d\\xe0\\xa4\\xb0\\xe0\\xa5\\x80'\n",
            "गुरु   b'\\xe0\\xa4\\x97\\xe0\\xa5\\x81\\xe0\\xa4\\xb0\\xe0\\xa5\\x81'\n",
            "चरन   b'\\xe0\\xa4\\x9a\\xe0\\xa4\\xb0\\xe0\\xa4\\xa8'\n",
            "सरॊज   b'\\xe0\\xa4\\xb8\\xe0\\xa4\\xb0\\xe0\\xa5\\x8a\\xe0\\xa4\\x9c'\n",
            "रज   b'\\xe0\\xa4\\xb0\\xe0\\xa4\\x9c'\n",
            "निजमनु   b'\\xe0\\xa4\\xa8\\xe0\\xa4\\xbf\\xe0\\xa4\\x9c\\xe0\\xa4\\xae\\xe0\\xa4\\xa8\\xe0\\xa5\\x81'\n",
            "मुकुरु   b'\\xe0\\xa4\\xae\\xe0\\xa5\\x81\\xe0\\xa4\\x95\\xe0\\xa5\\x81\\xe0\\xa4\\xb0\\xe0\\xa5\\x81'\n",
            "सुधारि   b'\\xe0\\xa4\\xb8\\xe0\\xa5\\x81\\xe0\\xa4\\xa7\\xe0\\xa4\\xbe\\xe0\\xa4\\xb0\\xe0\\xa4\\xbf'\n",
            "।   b'\\xe0\\xa5\\xa4'\n",
            "बरनऊ   b'\\xe0\\xa4\\xac\\xe0\\xa4\\xb0\\xe0\\xa4\\xa8\\xe0\\xa4\\x8a'\n",
            "रघुबर   b'\\xe0\\xa4\\xb0\\xe0\\xa4\\x98\\xe0\\xa5\\x81\\xe0\\xa4\\xac\\xe0\\xa4\\xb0'\n",
            "बिमल   b'\\xe0\\xa4\\xac\\xe0\\xa4\\xbf\\xe0\\xa4\\xae\\xe0\\xa4\\xb2'\n",
            "जसु   b'\\xe0\\xa4\\x9c\\xe0\\xa4\\xb8\\xe0\\xa5\\x81'\n",
            "जॊ   b'\\xe0\\xa4\\x9c\\xe0\\xa5\\x8a'\n",
            "दायकु   b'\\xe0\\xa4\\xa6\\xe0\\xa4\\xbe\\xe0\\xa4\\xaf\\xe0\\xa4\\x95\\xe0\\xa5\\x81'\n",
            "फल   b'\\xe0\\xa4\\xab\\xe0\\xa4\\xb2'\n",
            "चारि   b'\\xe0\\xa4\\x9a\\xe0\\xa4\\xbe\\xe0\\xa4\\xb0\\xe0\\xa4\\xbf'\n",
            "॥   b'\\xe0\\xa5\\xa5'\n",
            "बुद्धिहीन   b'\\xe0\\xa4\\xac\\xe0\\xa5\\x81\\xe0\\xa4\\xa6\\xe0\\xa5\\x8d\\xe0\\xa4\\xa7\\xe0\\xa4\\xbf\\xe0\\xa4\\xb9\\xe0\\xa5\\x80\\xe0\\xa4\\xa8'\n",
            "ननु   b'\\xe0\\xa4\\xa8\\xe0\\xa4\\xa8\\xe0\\xa5\\x81'\n",
            "जानिकॆ   b'\\xe0\\xa4\\x9c\\xe0\\xa4\\xbe\\xe0\\xa4\\xa8\\xe0\\xa4\\xbf\\xe0\\xa4\\x95\\xe0\\xa5\\x86'\n",
            "सुमिरौ   b'\\xe0\\xa4\\xb8\\xe0\\xa5\\x81\\xe0\\xa4\\xae\\xe0\\xa4\\xbf\\xe0\\xa4\\xb0\\xe0\\xa5\\x8c'\n",
            "पवन   b'\\xe0\\xa4\\xaa\\xe0\\xa4\\xb5\\xe0\\xa4\\xa8'\n",
            "कुमार   b'\\xe0\\xa4\\x95\\xe0\\xa5\\x81\\xe0\\xa4\\xae\\xe0\\xa4\\xbe\\xe0\\xa4\\xb0'\n",
            "।   b'\\xe0\\xa5\\xa4'\n",
            "बल   b'\\xe0\\xa4\\xac\\xe0\\xa4\\xb2'\n",
            "बुद्धि   b'\\xe0\\xa4\\xac\\xe0\\xa5\\x81\\xe0\\xa4\\xa6\\xe0\\xa5\\x8d\\xe0\\xa4\\xa7\\xe0\\xa4\\xbf'\n",
            "विद्या   b'\\xe0\\xa4\\xb5\\xe0\\xa4\\xbf\\xe0\\xa4\\xa6\\xe0\\xa5\\x8d\\xe0\\xa4\\xaf\\xe0\\xa4\\xbe'\n",
            "दॆहु   b'\\xe0\\xa4\\xa6\\xe0\\xa5\\x86\\xe0\\xa4\\xb9\\xe0\\xa5\\x81'\n",
            "मॊहि   b'\\xe0\\xa4\\xae\\xe0\\xa5\\x8a\\xe0\\xa4\\xb9\\xe0\\xa4\\xbf'\n",
            "हरहु   b'\\xe0\\xa4\\xb9\\xe0\\xa4\\xb0\\xe0\\xa4\\xb9\\xe0\\xa5\\x81'\n",
            "कलॆस   b'\\xe0\\xa4\\x95\\xe0\\xa4\\xb2\\xe0\\xa5\\x86\\xe0\\xa4\\xb8'\n",
            "बिकार्   b'\\xe0\\xa4\\xac\\xe0\\xa4\\xbf\\xe0\\xa4\\x95\\xe0\\xa4\\xbe\\xe0\\xa4\\xb0\\xe0\\xa5\\x8d'\n",
            "॥   b'\\xe0\\xa5\\xa5'\n"
          ],
          "name": "stdout"
        }
      ]
    },
    {
      "cell_type": "code",
      "metadata": {
        "id": "vNhZJQ2dWf29"
      },
      "source": [
        "##let's look at this particular word\r\n",
        "# 'गुरु'\r\n",
        "g=b'\\xe0\\xa4\\x97\\xe0\\xa5\\x81\\xe0\\xa4\\xb0\\xe0\\xa5\\x81'"
      ],
      "execution_count": 7,
      "outputs": []
    },
    {
      "cell_type": "code",
      "metadata": {
        "colab": {
          "base_uri": "https://localhost:8080/",
          "height": 35
        },
        "id": "SeDtNhzoWsZf",
        "outputId": "9a1ac125-c20f-4e07-830d-2438cac452ca"
      },
      "source": [
        "g.decode()"
      ],
      "execution_count": 8,
      "outputs": [
        {
          "output_type": "execute_result",
          "data": {
            "application/vnd.google.colaboratory.intrinsic+json": {
              "type": "string"
            },
            "text/plain": [
              "'गुरु'"
            ]
          },
          "metadata": {
            "tags": []
          },
          "execution_count": 8
        }
      ]
    },
    {
      "cell_type": "code",
      "metadata": {
        "colab": {
          "base_uri": "https://localhost:8080/"
        },
        "id": "ehgVOxxsXm8L",
        "outputId": "4db57861-a8b9-418e-d045-fbd17930d68b"
      },
      "source": [
        "##let's see individual words g is made of\r\n",
        "g1=b'\\xe0\\xa4\\x97'\r\n",
        "g2=b'\\xe0\\xa5\\x81'\r\n",
        "g3=b'\\xe0\\xa4\\xb0'\r\n",
        "g4=b'\\xe0\\xa5\\x81'\r\n",
        "print('Individual Code points in ',g.decode())\r\n",
        "print(g1.decode())\r\n",
        "print(g2.decode())\r\n",
        "print(g3.decode())\r\n",
        "print(g4.decode())"
      ],
      "execution_count": 13,
      "outputs": [
        {
          "output_type": "stream",
          "text": [
            "Individual Code points in  गुरु\n",
            "ग\n",
            "ु\n",
            "र\n",
            "ु\n"
          ],
          "name": "stdout"
        }
      ]
    },
    {
      "cell_type": "code",
      "metadata": {
        "colab": {
          "base_uri": "https://localhost:8080/"
        },
        "id": "tZ5GvXcdWuZT",
        "outputId": "0b3c1cff-e565-4236-c6c6-dec73f4c20b3"
      },
      "source": [
        "type(g)"
      ],
      "execution_count": 9,
      "outputs": [
        {
          "output_type": "execute_result",
          "data": {
            "text/plain": [
              "bytes"
            ]
          },
          "metadata": {
            "tags": []
          },
          "execution_count": 9
        }
      ]
    },
    {
      "cell_type": "code",
      "metadata": {
        "colab": {
          "base_uri": "https://localhost:8080/"
        },
        "id": "YCUQRqplWv90",
        "outputId": "3dd29b22-f34b-4673-b095-345775d51180"
      },
      "source": [
        "# To get text back from unicode value\r\n",
        "\r\n",
        "for i in arr:\r\n",
        "    u=i[1] #unicodes are present at 1st index in our array\r\n",
        "    print(u.decode())"
      ],
      "execution_count": 10,
      "outputs": [
        {
          "output_type": "stream",
          "text": [
            "रचन:\n",
            "तुलसी\n",
            "दास्\n",
            "दॊहा\n",
            "श्री\n",
            "गुरु\n",
            "चरन\n",
            "सरॊज\n",
            "रज\n",
            "निजमनु\n",
            "मुकुरु\n",
            "सुधारि\n",
            "।\n",
            "बरनऊ\n",
            "रघुबर\n",
            "बिमल\n",
            "जसु\n",
            "जॊ\n",
            "दायकु\n",
            "फल\n",
            "चारि\n",
            "॥\n",
            "बुद्धिहीन\n",
            "ननु\n",
            "जानिकॆ\n",
            "सुमिरौ\n",
            "पवन\n",
            "कुमार\n",
            "।\n",
            "बल\n",
            "बुद्धि\n",
            "विद्या\n",
            "दॆहु\n",
            "मॊहि\n",
            "हरहु\n",
            "कलॆस\n",
            "बिकार्\n",
            "॥\n"
          ],
          "name": "stdout"
        }
      ]
    },
    {
      "cell_type": "code",
      "metadata": {
        "id": "axAUgVzNW1nL"
      },
      "source": [
        "# encode() will result in a sequence of bytes.\r\n",
        "# The type of encoding to be followed is shown by the encoding parameter. \r\n",
        "# There are various types of character encoding schemes, out of which the scheme UTF-8 is used in Python by default."
      ],
      "execution_count": 11,
      "outputs": []
    },
    {
      "cell_type": "code",
      "metadata": {
        "id": "6njzzpywW9V1"
      },
      "source": [
        ""
      ],
      "execution_count": null,
      "outputs": []
    }
  ]
}